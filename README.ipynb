{
 "cells": [
  {
   "cell_type": "code",
   "execution_count": 1,
   "metadata": {
    "tags": [
     "remove"
    ]
   },
   "outputs": [],
   "source": [
    "%load_ext autoreload\n",
    "%autoreload 2"
   ]
  },
  {
   "cell_type": "code",
   "execution_count": 2,
   "metadata": {
    "tags": [
     "remove"
    ]
   },
   "outputs": [],
   "source": [
    "# TODO: better way of handling this?\n",
    "# monkey patch pandas DataFrame to strip <style> tags for display as `README.md`\n",
    "\n",
    "import re\n",
    "import pandas as pd\n",
    "\n",
    "def _repr_html_decorator_(_repr_html_orig_):\n",
    "\n",
    "    def _repr_html_patched_(self):\n",
    "\n",
    "        \"\"\"Override parent's method.\"\"\"\n",
    "        original = _repr_html_orig_(self)\n",
    "\n",
    "        # See https://stackoverflow.com/a/55148480/3324095\n",
    "        stripped = re.sub(\n",
    "            \"<style scoped>.*</style>\\n\",  # replace the CSS...\n",
    "            \"\",  # ...with an empty string\n",
    "            original,\n",
    "            flags=re.DOTALL,  # match across multiple \\n lines\n",
    "        )\n",
    "\n",
    "        return stripped\n",
    "    \n",
    "    return _repr_html_patched_\n",
    "\n",
    "pd.DataFrame._repr_html_ = _repr_html_decorator_(pd.DataFrame._repr_html_)"
   ]
  },
  {
   "cell_type": "markdown",
   "metadata": {},
   "source": [
    "# ReFlow"
   ]
  },
  {
   "cell_type": "markdown",
   "metadata": {},
   "source": [
    "> ⚠️ **In Development**: I am still preparing `ReFlow` for release on `pypi`. You can already play around with it but be aware that things are changing or might not be complete. This includes this README which still needs some work.\n",
    "\n",
    "`ReFlow` (Recipe Flow) is an approach for \n",
    "defining and executing a **directed acyclic graph** (DAG) \n",
    "with **several options for each node**, a so called `Recipe`, \n",
    "in an efficient, transparent, and easily comparable manner.\n",
    "This can be useful, e.g., in data science settings \n",
    "where many different preprocessing variants or subsets of the data need to be analyzed \n",
    "and it is not clear which analysis steps to use yet. \n"
   ]
  },
  {
   "cell_type": "markdown",
   "metadata": {},
   "source": [
    "> ⚠️ **Overfitting:** Use `Recipe`s with care in data science settings, as in predictive settings it might promote overfitting when running many different options.\n",
    "\n",
    "The idea is to define a `Recipe` similar to `scikit-learn`'s pipeline concept, \n",
    "but allow for DAGs as well as multiple `option`s for each `step`, i.e., node in the DAG.\n",
    "This can result in many different execution instantiations (all combinations of options). \n",
    "Developing such recipes rapidly, \n",
    "running the recipe efficiently, \n",
    "and being able to examine the results effectively \n",
    "is the goal of this library. "
   ]
  },
  {
   "cell_type": "markdown",
   "metadata": {},
   "source": [
    "Install `ReFlow` via pip:\n",
    "\n",
    "```bash\n",
    "pip install git+https://github.com/bckrlab/reflow.git#egg=reflow\n",
    "```"
   ]
  },
  {
   "cell_type": "markdown",
   "metadata": {},
   "source": [
    "Simple example:"
   ]
  },
  {
   "cell_type": "code",
   "execution_count": 3,
   "metadata": {},
   "outputs": [
    {
     "data": {
      "text/html": [
       "<div>\n",
       "<table border=\"1\" class=\"dataframe\">\n",
       "  <thead>\n",
       "    <tr>\n",
       "      <th></th>\n",
       "      <th colspan=\"2\" halign=\"left\">options</th>\n",
       "      <th>results</th>\n",
       "    </tr>\n",
       "    <tr>\n",
       "      <th></th>\n",
       "      <th>step1</th>\n",
       "      <th>step2</th>\n",
       "      <th>step2</th>\n",
       "    </tr>\n",
       "  </thead>\n",
       "  <tbody>\n",
       "    <tr>\n",
       "      <th>0</th>\n",
       "      <td>option1</td>\n",
       "      <td>default</td>\n",
       "      <td>some input_step1=option1_step2=default</td>\n",
       "    </tr>\n",
       "    <tr>\n",
       "      <th>1</th>\n",
       "      <td>option2</td>\n",
       "      <td>default</td>\n",
       "      <td>some input_step1=option2_step2=default</td>\n",
       "    </tr>\n",
       "  </tbody>\n",
       "</table>\n",
       "</div>"
      ],
      "text/plain": [
       "   options                                          results\n",
       "     step1    step2                                   step2\n",
       "0  option1  default  some input_step1=option1_step2=default\n",
       "1  option2  default  some input_step1=option2_step2=default"
      ]
     },
     "execution_count": 3,
     "metadata": {},
     "output_type": "execute_result"
    }
   ],
   "source": [
    "import reflow as rf\n",
    "\n",
    "# define recipe\n",
    "\n",
    "recipe = rf.Recipe()\n",
    "\n",
    "@recipe.option()\n",
    "def step1___option1(x):\n",
    "    return x + \"_step1=option1\"\n",
    "\n",
    "@recipe.option()\n",
    "def step1___option2(x):\n",
    "    return x + \"_step1=option2\"\n",
    "\n",
    "@recipe.option()\n",
    "def step2(x):\n",
    "    return x + \"_step2=default\"\n",
    "\n",
    "# the recipe can execute all possible option combinations ...\n",
    "all_results = recipe(\"some input\", include=\"all\")\n",
    "\n",
    "# ... for which it provides a nice visualization\n",
    "df = rf.results_to_dataframe(all_results, filter_columns=False)\n",
    "df"
   ]
  },
  {
   "cell_type": "markdown",
   "metadata": {},
   "source": [
    "## Overview\n",
    "\n",
    "A quick overview of the most important features."
   ]
  },
  {
   "cell_type": "markdown",
   "metadata": {},
   "source": [
    "**Quickstart:** For a quick overview start with the example in [Quickstart](#quickstart).\n",
    "\n",
    "**Features**: `Recipe` also provides a wealth of features (not exhaustive):\n",
    "\n",
    "| Feature                                          | Description                                                                                                                             |\n",
    "| ------------------------------------------------ | --------------------------------------------------------------------------------------------------------------------------------------- |\n",
    "| [Recipes are functions]() ||\n",
    "| [Execution filtering](#execution-filtering) | Execution filtering enables to only execute specific options and/or combinations of options.                                       |\n",
    "| [Sessions](#sessions)            | Sessions allows for dynamically executing the `Recipe` while it is defined during development (e.g., in a Jupyter environment), and offer flexible execution options for parallel and distributed execution. |\n",
    "| [Visualization capabilities](#)                  | `Recipe` has inbuilt (currently rudimentary) capabilities to visualize the recipe as a DAG and results as `pandas` DataFrames.           |\n",
    "| [Parallel and distributed execution](#)          | Recipes can be run in a parallel and distributed fashion (easily extensible by writing custom `Executors`).                             |\n",
    "| [Flexible step definitions](#)                   | Steps can be defined based on user needs (for loops, parameters, etc.).                                                                 |\n",
    "| [Easy sharing and combination of recipes](#)     | Recipes can be combined and shared easily. |\n",
    "| [Recipes are light-weight](#)     | Recipes can be combined and shared easily. |\n",
    "\n",
    "\n",
    "**Note 1: Grid Search:** Executing all combinations of options is basically equivalent to a grid search across all options (here called `branches`).\n",
    "\n",
    "**Note 2: Alternatives.** I designed this since I did not find any existing libraries \n",
    "that allowed a simple, intuitive, and programmatic way of such a flare / grid search, with caching and a nice way of displaying the results. \n",
    "However, see the section about [potential alternatives](#potential-alternatives) for an overview and comparisons of existing libraries.\n",
    "Maybe one of them renders `ReFlow` obsolete (let me know if you think so in the issue tracker)."
   ]
  },
  {
   "cell_type": "markdown",
   "metadata": {},
   "source": [
    "## Quickstart\n",
    "\n",
    "Install `ReFlow` via pip:\n",
    "\n",
    "```bash\n",
    "pip install git+https://github.com/bckrlab/reflow.git#egg=reflow\n",
    "```"
   ]
  },
  {
   "cell_type": "markdown",
   "metadata": {},
   "source": [
    "A `Recipe` is essentially a fancy function, with separate steps and multiple options for each step.\n",
    "The final recipe allows to run and choose from these steps and options using specific keyword arguments."
   ]
  },
  {
   "cell_type": "code",
   "execution_count": 5,
   "metadata": {},
   "outputs": [
    {
     "data": {
      "text/plain": [
       "Recipe\n",
       "    INPUT\n",
       "        step1\n",
       "            options:\n",
       "                option1\n",
       "                option2\n",
       "            default_option: None\n",
       "            latest_option:  option2\n",
       "    STEPS\n",
       "    OUTPUT\n",
       "        step2\n",
       "            parents:\n",
       "                step1\n",
       "            options:\n",
       "                default\n",
       "            default_option: None\n",
       "            latest_option:  default"
      ]
     },
     "execution_count": 5,
     "metadata": {},
     "output_type": "execute_result"
    }
   ],
   "source": [
    "import reflow as rf\n",
    "\n",
    "# define recipe\n",
    "\n",
    "recipe = rf.Recipe()\n",
    "\n",
    "@recipe.option()\n",
    "def step1___option1(x):\n",
    "    return x + \"_step1=option1\"\n",
    "\n",
    "@recipe.option()\n",
    "def step1___option2(x):\n",
    "    return x + \"_step1=option2\"\n",
    "\n",
    "@recipe.option()\n",
    "def step2(x):\n",
    "    return x + \"_step2=default\"\n",
    "\n",
    "# examine recipe\n",
    "recipe"
   ]
  },
  {
   "cell_type": "code",
   "execution_count": 7,
   "metadata": {},
   "outputs": [
    {
     "data": {
      "text/plain": [
       "'test_step1=option2'"
      ]
     },
     "execution_count": 7,
     "metadata": {},
     "output_type": "execute_result"
    }
   ],
   "source": [
    "step1___option1(\"test\", option=\"option2\")"
   ]
  },
  {
   "cell_type": "code",
   "execution_count": 8,
   "metadata": {},
   "outputs": [
    {
     "data": {
      "text/plain": [
       "'yuqi_step1=option1_step2=default'"
      ]
     },
     "execution_count": 8,
     "metadata": {},
     "output_type": "execute_result"
    }
   ],
   "source": [
    "step1_switch = \"option1\"\n",
    "\n",
    "# input\n",
    "x = \"yuqi\"\n",
    "\n",
    "if step1_switch == \"option1\":\n",
    "    x = step1___option1(x)\n",
    "elif step1_switch == \"option2\":\n",
    "    x = step1___option2(x)\n",
    "\n",
    "x = step2(x)\n",
    "x"
   ]
  },
  {
   "cell_type": "code",
   "execution_count": 10,
   "metadata": {},
   "outputs": [
    {
     "data": {
      "text/plain": [
       "'yuqi_step1=option1_step2=default'"
      ]
     },
     "execution_count": 10,
     "metadata": {},
     "output_type": "execute_result"
    }
   ],
   "source": [
    "recipe(\"yuqi\", include={\"step1\": \"option1\"})"
   ]
  },
  {
   "cell_type": "code",
   "execution_count": 11,
   "metadata": {},
   "outputs": [
    {
     "data": {
      "text/plain": [
       "'some input_step1=option2_step2=default'"
      ]
     },
     "metadata": {},
     "output_type": "display_data"
    }
   ],
   "source": [
    "# a recipe is a function executing all steps in sequence\n",
    "# by default the latest branch for each step\n",
    "result_from_latest_steps = recipe(\"some input\")\n",
    "display(result_from_latest_steps)"
   ]
  },
  {
   "cell_type": "code",
   "execution_count": 13,
   "metadata": {},
   "outputs": [
    {
     "data": {
      "text/html": [
       "<div>\n",
       "<style scoped>\n",
       "    .dataframe tbody tr th:only-of-type {\n",
       "        vertical-align: middle;\n",
       "    }\n",
       "\n",
       "    .dataframe tbody tr th {\n",
       "        vertical-align: top;\n",
       "    }\n",
       "\n",
       "    .dataframe thead tr th {\n",
       "        text-align: left;\n",
       "    }\n",
       "</style>\n",
       "<table border=\"1\" class=\"dataframe\">\n",
       "  <thead>\n",
       "    <tr>\n",
       "      <th></th>\n",
       "      <th colspan=\"2\" halign=\"left\">options</th>\n",
       "      <th>results</th>\n",
       "    </tr>\n",
       "    <tr>\n",
       "      <th></th>\n",
       "      <th>step1</th>\n",
       "      <th>step2</th>\n",
       "      <th>step2</th>\n",
       "    </tr>\n",
       "  </thead>\n",
       "  <tbody>\n",
       "    <tr>\n",
       "      <th>0</th>\n",
       "      <td>option1</td>\n",
       "      <td>default</td>\n",
       "      <td>some input_step1=option1_step2=default</td>\n",
       "    </tr>\n",
       "    <tr>\n",
       "      <th>1</th>\n",
       "      <td>option2</td>\n",
       "      <td>default</td>\n",
       "      <td>some input_step1=option2_step2=default</td>\n",
       "    </tr>\n",
       "  </tbody>\n",
       "</table>\n",
       "</div>"
      ],
      "text/plain": [
       "   options                                          results\n",
       "     step1    step2                                   step2\n",
       "0  option1  default  some input_step1=option1_step2=default\n",
       "1  option2  default  some input_step1=option2_step2=default"
      ]
     },
     "metadata": {},
     "output_type": "display_data"
    }
   ],
   "source": [
    "# the recipe can also execute all possible branch combinations ...\n",
    "all_results = recipe(\"some input\", include=\"all\")\n",
    "\n",
    "# ... for which we also provide a nice visualization\n",
    "df = rf.results_to_dataframe(all_results, filter_columns=False)\n",
    "display(df)"
   ]
  },
  {
   "cell_type": "code",
   "execution_count": 16,
   "metadata": {},
   "outputs": [
    {
     "name": "stdout",
     "output_type": "stream",
     "text": [
      "some input_step1=option1\n",
      "some input_step1=option2\n"
     ]
    }
   ],
   "source": [
    "# note that each step is a function and can be used as expected ...\n",
    "step_result = step1___option1(\"some input\")\n",
    "print(step_result)\n",
    "\n",
    "# ... and additionally, steps can now switch functionality with the `branch` keyword\n",
    "step_result = step1___option1(\"some input\", option=\"option2\")\n",
    "print(step_result)"
   ]
  },
  {
   "cell_type": "markdown",
   "metadata": {},
   "source": [
    "\n",
    "## Features\n",
    "\n",
    "The following lists a non-complete set of features."
   ]
  },
  {
   "cell_type": "markdown",
   "metadata": {},
   "source": [
    "### Visualization capabilities\n",
    "\n",
    "Reflow supports visualizing recipes."
   ]
  },
  {
   "cell_type": "code",
   "execution_count": 17,
   "metadata": {},
   "outputs": [
    {
     "data": {
      "text/plain": [
       "Recipe\n",
       "    INPUT\n",
       "        step1\n",
       "            options:\n",
       "                option1\n",
       "                option2\n",
       "            default_option: None\n",
       "            latest_option:  option2\n",
       "    STEPS\n",
       "    OUTPUT\n",
       "        step2\n",
       "            parents:\n",
       "                step1\n",
       "            options:\n",
       "                default\n",
       "            default_option: None\n",
       "            latest_option:  default"
      ]
     },
     "execution_count": 17,
     "metadata": {},
     "output_type": "execute_result"
    }
   ],
   "source": [
    "# print recipe\n",
    "recipe"
   ]
  },
  {
   "cell_type": "code",
   "execution_count": 20,
   "metadata": {},
   "outputs": [
    {
     "data": {
      "text/html": [
       "<div>\n",
       "<style scoped>\n",
       "    .dataframe tbody tr th:only-of-type {\n",
       "        vertical-align: middle;\n",
       "    }\n",
       "\n",
       "    .dataframe tbody tr th {\n",
       "        vertical-align: top;\n",
       "    }\n",
       "\n",
       "    .dataframe thead tr th {\n",
       "        text-align: left;\n",
       "    }\n",
       "</style>\n",
       "<table border=\"1\" class=\"dataframe\">\n",
       "  <thead>\n",
       "    <tr>\n",
       "      <th></th>\n",
       "      <th colspan=\"2\" halign=\"left\">options</th>\n",
       "      <th>results</th>\n",
       "    </tr>\n",
       "    <tr>\n",
       "      <th></th>\n",
       "      <th>step1</th>\n",
       "      <th>step2</th>\n",
       "      <th>step2</th>\n",
       "    </tr>\n",
       "  </thead>\n",
       "  <tbody>\n",
       "    <tr>\n",
       "      <th>0</th>\n",
       "      <td>option1</td>\n",
       "      <td>default</td>\n",
       "      <td>start_step1=option1_step2=default</td>\n",
       "    </tr>\n",
       "    <tr>\n",
       "      <th>1</th>\n",
       "      <td>option2</td>\n",
       "      <td>default</td>\n",
       "      <td>start_step1=option2_step2=default</td>\n",
       "    </tr>\n",
       "  </tbody>\n",
       "</table>\n",
       "</div>"
      ],
      "text/plain": [
       "   options                                     results\n",
       "     step1    step2                              step2\n",
       "0  option1  default  start_step1=option1_step2=default\n",
       "1  option2  default  start_step1=option2_step2=default"
      ]
     },
     "metadata": {},
     "output_type": "display_data"
    },
    {
     "data": {
      "text/html": [
       "<div>\n",
       "<style scoped>\n",
       "    .dataframe tbody tr th:only-of-type {\n",
       "        vertical-align: middle;\n",
       "    }\n",
       "\n",
       "    .dataframe tbody tr th {\n",
       "        vertical-align: top;\n",
       "    }\n",
       "\n",
       "    .dataframe thead tr th {\n",
       "        text-align: left;\n",
       "    }\n",
       "</style>\n",
       "<table border=\"1\" class=\"dataframe\">\n",
       "  <thead>\n",
       "    <tr>\n",
       "      <th></th>\n",
       "      <th>options</th>\n",
       "      <th>results</th>\n",
       "    </tr>\n",
       "    <tr>\n",
       "      <th></th>\n",
       "      <th>step1</th>\n",
       "      <th>step2</th>\n",
       "    </tr>\n",
       "  </thead>\n",
       "  <tbody>\n",
       "    <tr>\n",
       "      <th>0</th>\n",
       "      <td>option1</td>\n",
       "      <td>start_step1=option1_step2=default</td>\n",
       "    </tr>\n",
       "    <tr>\n",
       "      <th>1</th>\n",
       "      <td>option2</td>\n",
       "      <td>start_step1=option2_step2=default</td>\n",
       "    </tr>\n",
       "  </tbody>\n",
       "</table>\n",
       "</div>"
      ],
      "text/plain": [
       "   options                            results\n",
       "     step1                              step2\n",
       "0  option1  start_step1=option1_step2=default\n",
       "1  option2  start_step1=option2_step2=default"
      ]
     },
     "execution_count": 20,
     "metadata": {},
     "output_type": "execute_result"
    }
   ],
   "source": [
    "# execute recipe ...\n",
    "recipe_input = \"start\"\n",
    "results = recipe(recipe_input, include=\"all\")\n",
    "\n",
    "# ... and look at results as dataframe\n",
    "df = rf.results_to_dataframe(results, filter_columns=False)\n",
    "display(df)\n",
    "\n",
    "# ... we can skip columns for steps with only one option\n",
    "rf.results_to_dataframe(results)"
   ]
  },
  {
   "cell_type": "markdown",
   "metadata": {},
   "source": [
    "More visualization tools are planned."
   ]
  },
  {
   "cell_type": "markdown",
   "metadata": {},
   "source": [
    "\n",
    "### Execution path filtering\n",
    "\n",
    "Recipes can blow up pretty quickly as we add more options and steps.\n",
    "In that case, it might not make sense to execute every single path. \n",
    "For this, we provide filtering capabilities in the execution step."
   ]
  },
  {
   "cell_type": "code",
   "execution_count": 24,
   "metadata": {},
   "outputs": [],
   "source": [
    "# define a simple filter for a specific path\n",
    "include = {\"step1\": \"option1\", \"step2\": \"default\"}\n",
    "\n",
    "# filters supports regex\n",
    "include = {\"step1\": \"option1\", \"step2\": \".*\"}\n",
    "\n",
    "# filters can consist of multiple and partial paths \n",
    "include = [{\"step1\": \"option1\"}, {\"step1\": \"option2\"}]\n",
    "\n",
    "# filters support functions\n",
    "include = {\"step1\": lambda option: option == \"option1\"}"
   ]
  },
  {
   "cell_type": "code",
   "execution_count": 26,
   "metadata": {},
   "outputs": [
    {
     "data": {
      "text/html": [
       "<div>\n",
       "<style scoped>\n",
       "    .dataframe tbody tr th:only-of-type {\n",
       "        vertical-align: middle;\n",
       "    }\n",
       "\n",
       "    .dataframe tbody tr th {\n",
       "        vertical-align: top;\n",
       "    }\n",
       "\n",
       "    .dataframe thead tr th {\n",
       "        text-align: left;\n",
       "    }\n",
       "</style>\n",
       "<table border=\"1\" class=\"dataframe\">\n",
       "  <thead>\n",
       "    <tr>\n",
       "      <th></th>\n",
       "      <th colspan=\"2\" halign=\"left\">options</th>\n",
       "      <th>results</th>\n",
       "    </tr>\n",
       "    <tr>\n",
       "      <th></th>\n",
       "      <th>step1</th>\n",
       "      <th>step2</th>\n",
       "      <th>step2</th>\n",
       "    </tr>\n",
       "  </thead>\n",
       "  <tbody>\n",
       "    <tr>\n",
       "      <th>0</th>\n",
       "      <td>option1</td>\n",
       "      <td>default</td>\n",
       "      <td>start_step1=option1_step2=default</td>\n",
       "    </tr>\n",
       "  </tbody>\n",
       "</table>\n",
       "</div>"
      ],
      "text/plain": [
       "   options                                     results\n",
       "     step1    step2                              step2\n",
       "0  option1  default  start_step1=option1_step2=default"
      ]
     },
     "execution_count": 26,
     "metadata": {},
     "output_type": "execute_result"
    }
   ],
   "source": [
    "# look at filtered results\n",
    "recipe_input = \"start\"\n",
    "results = recipe(recipe_input, include=include, squeeze=False)\n",
    "df = rf.results_to_dataframe(results, filter_columns=False)\n",
    "df"
   ]
  },
  {
   "cell_type": "markdown",
   "metadata": {},
   "source": [
    "\n",
    "**Note:** There is also an `exclude` filter which exectus *after* the include filter."
   ]
  },
  {
   "cell_type": "markdown",
   "metadata": {},
   "source": [
    "\n",
    "### Interactive mode"
   ]
  },
  {
   "cell_type": "markdown",
   "metadata": {},
   "source": [
    "Interactive mode is for developing recipes. It allows to \n",
    "\n",
    "- dynamically interleave execution with step definition by executing the latest added step\n",
    "- overwrite steps (which throws an exception if not enabled explicitly)\n",
    "- easily turn on/off interactive mode in order to not execute the interactive commands when running recipe in production \n",
    "- execute a specific step and branch that the user might want to examine\n",
    "\n",
    "In the following we will use the same example as in [Quickstart](#quickstart) but check the output at after each step."
   ]
  },
  {
   "cell_type": "markdown",
   "metadata": {},
   "source": [
    "\n",
    "#### Basic example"
   ]
  },
  {
   "cell_type": "code",
   "execution_count": 28,
   "metadata": {},
   "outputs": [],
   "source": [
    "import reflow as rf\n",
    "\n",
    "# define recipe\n",
    "recipe = rf.Recipe()\n",
    "\n",
    "# enable interactive mode\n",
    "dev_mode = True\n",
    "if dev_mode:\n",
    "\n",
    "    # allow overwriting/redefining of steps\n",
    "    recipe.allow_overwrite = True \n",
    "\n",
    "    # start an execution session with a fixed input and executor\n",
    "    # Note: this is syntactic sugar and can be achieved by `recipe.__call__` alone\n",
    "    dev = rf.Session(recipe).process(\"some input\").using()\n",
    "\n",
    "    # OPTIONAL: \n",
    "    #   add `.using(cache_reset=\"step\")` to recalculate the last step\n",
    "    #   when executing the recipe; you can also use `cache_reset=\"all\"` \n",
    "    #   to recalculate everything\n",
    "    # dev = rf.Session(recipe).process(\"some input\").using(cache_reset=\"step\")"
   ]
  },
  {
   "cell_type": "code",
   "execution_count": 29,
   "metadata": {},
   "outputs": [
    {
     "data": {
      "text/plain": [
       "'some input > step1=option1'"
      ]
     },
     "metadata": {},
     "output_type": "display_data"
    }
   ],
   "source": [
    "@recipe.option()\n",
    "def step1___option1(x):\n",
    "    return x + \" > step1=option1\"\n",
    "\n",
    "# display result\n",
    "if dev:\n",
    "    result = dev.execute()\n",
    "    display(result)"
   ]
  },
  {
   "cell_type": "code",
   "execution_count": 30,
   "metadata": {},
   "outputs": [],
   "source": [
    "@recipe.option()\n",
    "def step1___option2(x):\n",
    "    return x + \" > step1=option2\""
   ]
  },
  {
   "cell_type": "code",
   "execution_count": 31,
   "metadata": {},
   "outputs": [
    {
     "data": {
      "text/plain": [
       "'some input > step1=option2 > step2=default'"
      ]
     },
     "metadata": {},
     "output_type": "display_data"
    }
   ],
   "source": [
    "@recipe.option()\n",
    "def step2(x):\n",
    "    return x + \" > step2=default\"\n",
    "\n",
    "if dev:\n",
    "    result = dev.execute()\n",
    "    display(result)"
   ]
  },
  {
   "cell_type": "markdown",
   "metadata": {},
   "source": [
    "\n",
    "#### Execute a specific steps and branches"
   ]
  },
  {
   "cell_type": "markdown",
   "metadata": {},
   "source": [
    "You can execute a specific step and branch or a complete path whenever you need to, without having to redefine all the previous steps. "
   ]
  },
  {
   "cell_type": "code",
   "execution_count": 33,
   "metadata": {},
   "outputs": [
    {
     "data": {
      "text/plain": [
       "'some input > step1=option1'"
      ]
     },
     "metadata": {},
     "output_type": "display_data"
    }
   ],
   "source": [
    "# execute a specific step and branch history\n",
    "if dev:\n",
    "    result = dev.execute(step=\"step1\", option=\"option1\")\n",
    "    display(result)"
   ]
  },
  {
   "cell_type": "code",
   "execution_count": 34,
   "metadata": {},
   "outputs": [
    {
     "data": {
      "text/plain": [
       "'some input > step1=option1 > step2=default'"
      ]
     },
     "metadata": {},
     "output_type": "display_data"
    }
   ],
   "source": [
    "# execute a specific step and branch history\n",
    "if dev:\n",
    "    result = dev.execute(include={\"step1\": \"option1\", \"step2\": \"default\"})\n",
    "    display(result)"
   ]
  },
  {
   "cell_type": "markdown",
   "metadata": {},
   "source": [
    "\n",
    "#### Caching"
   ]
  },
  {
   "cell_type": "markdown",
   "metadata": {},
   "source": [
    "By default, the Session uses an executor that caches the results of all steps in memory (the `Cache` type can be customized and is easily extendible).\n",
    "You can modify this behavior."
   ]
  },
  {
   "cell_type": "code",
   "execution_count": 35,
   "metadata": {},
   "outputs": [],
   "source": [
    "import warnings\n",
    "warnings.filterwarnings('ignore', category=UserWarning)"
   ]
  },
  {
   "cell_type": "code",
   "execution_count": 36,
   "metadata": {},
   "outputs": [
    {
     "data": {
      "text/plain": [
       "'some input > step1=option2 > step2=default'"
      ]
     },
     "metadata": {},
     "output_type": "display_data"
    }
   ],
   "source": [
    "# execute last step and branch to check the current execution path\n",
    "if dev:\n",
    "    result = dev.execute()\n",
    "    display(result)"
   ]
  },
  {
   "cell_type": "code",
   "execution_count": 38,
   "metadata": {},
   "outputs": [
    {
     "data": {
      "text/plain": [
       "'some input > step1=option2 > step2=default'"
      ]
     },
     "metadata": {},
     "output_type": "display_data"
    },
    {
     "data": {
      "text/plain": [
       "'some input > step1=option2 > step2=NEW'"
      ]
     },
     "metadata": {},
     "output_type": "display_data"
    }
   ],
   "source": [
    "# redefine `step2=default`\n",
    "@recipe.option()\n",
    "def step2(x):\n",
    "    return x + \" > step2=NEW\"\n",
    "\n",
    "# note that nothing changes because the result of the current step has been cached\n",
    "# NOTE: this default behavior can be adjusted when starting the Session (see above)\n",
    "if dev:\n",
    "    result = dev.execute()\n",
    "    display(result)\n",
    "\n",
    "# you can also reset the cache for the latest step (or all steps) when executing\n",
    "if dev:\n",
    "    result = dev.execute(cache_reset=\"last step\")\n",
    "    display(result)"
   ]
  },
  {
   "cell_type": "code",
   "execution_count": 40,
   "metadata": {},
   "outputs": [
    {
     "data": {
      "text/plain": [
       "'some input > step1=NEW > step2=NEW'"
      ]
     },
     "metadata": {},
     "output_type": "display_data"
    },
    {
     "data": {
      "text/plain": [
       "'some input > step1=NEW > step2=NEW'"
      ]
     },
     "metadata": {},
     "output_type": "display_data"
    }
   ],
   "source": [
    "# note that by default only the last step is cached\n",
    "# so changes to other steps will show\n",
    "\n",
    "# redefine `step1=option1`\n",
    "@recipe.option()\n",
    "def step1___option2(x):\n",
    "    return x + \" > step1=NEW\"\n",
    "\n",
    "# execute `step2` and notice that we still get the same result for `step1=option1`\n",
    "if dev:\n",
    "    result = dev.execute(step=\"step2\")\n",
    "    display(result)\n",
    "\n",
    "# but when we reset the last step, the first step is also recalculated\n",
    "if dev:\n",
    "    result = dev.execute(step=\"step2\", cache_reset=\"last step\")\n",
    "    display(result)"
   ]
  },
  {
   "cell_type": "markdown",
   "metadata": {},
   "source": [
    "\n",
    "### Cached and Persistent Execution Results"
   ]
  },
  {
   "cell_type": "markdown",
   "metadata": {},
   "source": [
    "Execution of paths are cached in memory by default. However, they can also be persisted. This can also help to resuse some of the results from earlier previous steps saving compute resources."
   ]
  },
  {
   "cell_type": "markdown",
   "metadata": {},
   "source": [
    "\n",
    "#### Steps are cached"
   ]
  },
  {
   "cell_type": "markdown",
   "metadata": {},
   "source": [
    "Steps and options are cached in memory by default."
   ]
  },
  {
   "cell_type": "code",
   "execution_count": 42,
   "metadata": {},
   "outputs": [],
   "source": [
    "import reflow as rf\n",
    "import time\n",
    "\n",
    "recipe = rf.Recipe()\n",
    "\n",
    "@recipe.option()\n",
    "def step1(x):\n",
    "    time.sleep(5)\n",
    "    return x + \" > step1=default\"\n",
    "\n",
    "@recipe.option()\n",
    "def step2___option1(x):\n",
    "    time.sleep(5)\n",
    "    return x + \" > step2=option1\"\n",
    "\n",
    "@recipe.option()\n",
    "def step2___option2(x):\n",
    "    return x + \" > step2=option2\""
   ]
  },
  {
   "cell_type": "code",
   "execution_count": 43,
   "metadata": {},
   "outputs": [],
   "source": [
    "recipe_input = \"start\"\n",
    "run = rf.Session(recipe).process(recipe_input)"
   ]
  },
  {
   "cell_type": "code",
   "execution_count": 45,
   "metadata": {},
   "outputs": [
    {
     "name": "stdout",
     "output_type": "stream",
     "text": [
      "CPU times: user 1.77 ms, sys: 1.87 ms, total: 3.64 ms\n",
      "Wall time: 5 s\n"
     ]
    }
   ],
   "source": [
    "%%time\n",
    "# not cached, will take 10 seconds (step1: 5s, step2=option2: 5s)\n",
    "run.execute(include={\"step2\": \"option1\"});"
   ]
  },
  {
   "cell_type": "code",
   "execution_count": 47,
   "metadata": {},
   "outputs": [
    {
     "name": "stdout",
     "output_type": "stream",
     "text": [
      "CPU times: user 1.96 ms, sys: 0 ns, total: 1.96 ms\n",
      "Wall time: 1.96 ms\n"
     ]
    }
   ],
   "source": [
    "%%time\n",
    "# cached, will return immediately since the complete path is cached\n",
    "run.execute(include={\"step2\": \"option1\"});"
   ]
  },
  {
   "cell_type": "code",
   "execution_count": 48,
   "metadata": {},
   "outputs": [
    {
     "name": "stdout",
     "output_type": "stream",
     "text": [
      "CPU times: user 3.62 ms, sys: 1.31 ms, total: 4.92 ms\n",
      "Wall time: 5 s\n"
     ]
    }
   ],
   "source": [
    "%%time\n",
    "# note that only the complete path is cached by default\n",
    "# thus executing `step1` will still take 5s\n",
    "run.execute(step=\"step1\");"
   ]
  },
  {
   "cell_type": "code",
   "execution_count": 49,
   "metadata": {},
   "outputs": [
    {
     "name": "stdout",
     "output_type": "stream",
     "text": [
      "CPU times: user 1.82 ms, sys: 1.89 ms, total: 3.71 ms\n",
      "Wall time: 5 s\n"
     ]
    }
   ],
   "source": [
    "%%time\n",
    "# you can add `step1` to the cache when executing paths\n",
    "run.execute(\n",
    "    step=\"step1\",\n",
    "    cache_include=[\"step1\"]  # short for [(\"step1\", \".*\")]\n",
    ");"
   ]
  },
  {
   "cell_type": "code",
   "execution_count": 50,
   "metadata": {},
   "outputs": [
    {
     "name": "stdout",
     "output_type": "stream",
     "text": [
      "CPU times: user 4.95 ms, sys: 816 µs, total: 5.76 ms\n",
      "Wall time: 5 s\n"
     ]
    }
   ],
   "source": [
    "%%time\n",
    "# then it will be reused in subsequent runs\n",
    "# thus here step2=option2 return immediately\n",
    "run.execute(\n",
    "    include={\"step2\": \"option2\"},\n",
    "    cache_include=[\"step1\"]  # short for [(\"step1\", \".*\")]\n",
    ");"
   ]
  },
  {
   "cell_type": "markdown",
   "metadata": {},
   "source": [
    "\n",
    "#### Persistence"
   ]
  },
  {
   "cell_type": "markdown",
   "metadata": {},
   "source": [
    "Steps and options can be cached to disk or [MLflow](https://mlflow.org/)."
   ]
  },
  {
   "cell_type": "code",
   "execution_count": 52,
   "metadata": {},
   "outputs": [],
   "source": [
    "import reflow as rf\n",
    "import tempfile\n",
    "\n",
    "recipe = rf.Recipe()\n",
    "\n",
    "@recipe.option()\n",
    "def step1(x):\n",
    "    return x + \" > step1=default\"\n",
    "\n",
    "recipe_input = \"start\"\n",
    "\n",
    "with tempfile.TemporaryDirectory() as out:\n",
    "    cache = rf.FileCache(out)\n",
    "    rf.Session(recipe).process(recipe_input).using(cache=cache)\n",
    "    recipe(recipe_input, cache=cache)\n",
    "\n",
    "with tempfile.TemporaryDirectory() as out:\n",
    "    from reflow.cache.mlflow_cache import MlflowCache\n",
    "    cache = MlflowCache(out)\n",
    "    rf.Session(recipe).process(recipe_input).using(cache=cache)"
   ]
  },
  {
   "cell_type": "markdown",
   "metadata": {},
   "source": [
    "\n",
    "### Parallel and distributed execution"
   ]
  },
  {
   "cell_type": "markdown",
   "metadata": {},
   "source": [
    "TODO"
   ]
  },
  {
   "cell_type": "markdown",
   "metadata": {},
   "source": [
    "\n",
    "### Flexible step definitions"
   ]
  },
  {
   "cell_type": "markdown",
   "metadata": {},
   "source": [
    "`Recipe` provides several ways to define steps. This includes defining branches as any hashable data type, as well as some syntactic sugar."
   ]
  },
  {
   "cell_type": "code",
   "execution_count": 57,
   "metadata": {},
   "outputs": [],
   "source": [
    "import reflow as rf\n",
    "recipe = rf.Recipe()\n",
    "recipe.allow_overwrite = True\n",
    "\n",
    "# automatically names the step and branch by parsing the function name\n",
    "# step and option are separated by `___`\n",
    "# -> step1=option1\n",
    "@recipe.option()\n",
    "def step1___option1(x):\n",
    "    return x + \" > step1=option1\"\n",
    "\n",
    "# if no branch name is given it is set to \"default\"\n",
    "# -> step1=default\n",
    "@recipe.option()\n",
    "def step1(x):\n",
    "    return x + \" > step1=default\"\n",
    "\n",
    "# manually set step and branch names\n",
    "# -> step1=default\n",
    "@recipe.option(step=\"step1\", option=\"option1\")\n",
    "def some_function(x):\n",
    "    return x + \" > step1=option1\"\n",
    "\n",
    "# programatically set step and branch\n",
    "# -> step1=default\n",
    "recipe.add_option(lambda x: x + \" > step1=default\", \"step1\", \"option1\")\n",
    "\n",
    "# you can also set a noop branch easily\n",
    "# -> step1=NOOP\n",
    "recipe.add_option_noop(\"step1\")"
   ]
  },
  {
   "cell_type": "markdown",
   "metadata": {},
   "source": [
    "You can also easily add batches of branches. \n",
    "\n",
    "**Note** that branches do not have to be strings."
   ]
  },
  {
   "cell_type": "code",
   "execution_count": 58,
   "metadata": {},
   "outputs": [
    {
     "data": {
      "text/plain": [
       "Recipe\n",
       "    INPUT\n",
       "        step1\n",
       "            options:\n",
       "                0\n",
       "                1\n",
       "                2\n",
       "            default_option: None\n",
       "            latest_option:  2\n",
       "    STEPS\n",
       "    OUTPUT\n",
       "        step1\n",
       "            parents:\n",
       "                ROOT\n",
       "            options:\n",
       "                0\n",
       "                1\n",
       "                2\n",
       "            default_option: None\n",
       "            latest_option:  2"
      ]
     },
     "execution_count": 58,
     "metadata": {},
     "output_type": "execute_result"
    }
   ],
   "source": [
    "import reflow as rf\n",
    "recipe = rf.Recipe()\n",
    "\n",
    "for i in range(3):\n",
    "    @recipe.option(option=i)\n",
    "    def step1(x, i=i):\n",
    "        return x + f\" > step1=option{i}\"\n",
    "\n",
    "recipe"
   ]
  },
  {
   "cell_type": "markdown",
   "metadata": {},
   "source": [
    "\n",
    "### Easy sharing and combination of recipes"
   ]
  },
  {
   "cell_type": "markdown",
   "metadata": {},
   "source": [
    "Recipes can be combined easily and defined as classes as well for easier sharing and reuse."
   ]
  },
  {
   "cell_type": "code",
   "execution_count": 61,
   "metadata": {},
   "outputs": [
    {
     "name": "stdout",
     "output_type": "stream",
     "text": [
      "Recipe 1: Recipe\n",
      "    INPUT\n",
      "        step1\n",
      "            options:\n",
      "                option1\n",
      "                option2\n",
      "            default_option: None\n",
      "            latest_option:  option2\n",
      "    STEPS\n",
      "    OUTPUT\n",
      "        step1\n",
      "            parents:\n",
      "                ROOT\n",
      "            options:\n",
      "                option1\n",
      "                option2\n",
      "            default_option: None\n",
      "            latest_option:  option2\n",
      "\n",
      "Recipe 2: Recipe\n",
      "    INPUT\n",
      "        step2\n",
      "            options:\n",
      "                default\n",
      "            default_option: None\n",
      "            latest_option:  default\n",
      "    STEPS\n",
      "    OUTPUT\n",
      "        step2\n",
      "            parents:\n",
      "                ROOT\n",
      "            options:\n",
      "                default\n",
      "            default_option: None\n",
      "            latest_option:  default\n",
      "\n",
      "Recipe 1 + Recipe 2: Recipe\n",
      "    INPUT\n",
      "        step1\n",
      "            options:\n",
      "                0\n",
      "                1\n",
      "                2\n",
      "            default_option: None\n",
      "            latest_option:  2\n",
      "    STEPS\n",
      "    OUTPUT\n",
      "        step1\n",
      "            parents:\n",
      "                ROOT\n",
      "            options:\n",
      "                0\n",
      "                1\n",
      "                2\n",
      "            default_option: None\n",
      "            latest_option:  2\n",
      "\n"
     ]
    }
   ],
   "source": [
    "# combining recipes\n",
    "# TODO: add support for combining recipes\n",
    "\n",
    "# recipe 1\n",
    "recipe1 = rf.Recipe()\n",
    "\n",
    "@recipe1.option()\n",
    "def step1___option1(x):\n",
    "    return x + \" > step1=option1\"\n",
    "\n",
    "@recipe1.option()\n",
    "def step1___option2(x):\n",
    "    return x + \" > step1=option2\"\n",
    "\n",
    "# recipe 2\n",
    "recipe2 = rf.Recipe()\n",
    "\n",
    "@recipe2.option()\n",
    "def step2(x):\n",
    "    return x + \" > step2=default\"\n",
    "\n",
    "# inspect\n",
    "print(\"Recipe 1:\", recipe1)\n",
    "print(\"Recipe 2:\", recipe2)\n",
    "print(\"Recipe 1 + Recipe 2:\", recipe)"
   ]
  },
  {
   "cell_type": "markdown",
   "metadata": {},
   "source": [
    "\n",
    "### Extending recipe"
   ]
  },
  {
   "cell_type": "code",
   "execution_count": 62,
   "metadata": {},
   "outputs": [
    {
     "data": {
      "text/plain": [
       "'test > step1=option2'"
      ]
     },
     "execution_count": 62,
     "metadata": {},
     "output_type": "execute_result"
    }
   ],
   "source": [
    "# you can define recipes as a class without polluting the global space with functions\n",
    "class MyRecipe(rf.Recipe):\n",
    "\n",
    "    def init_steps(self):\n",
    "\n",
    "        @self.option()\n",
    "        def step1___option1(x):\n",
    "            return x + \" > step1=option1\"\n",
    "    \n",
    "        @self.option()\n",
    "        def step1___option2(x):\n",
    "            return x + \" > step1=option2\"\n",
    "        \n",
    "recipe = MyRecipe()\n",
    "recipe(\"test\")"
   ]
  },
  {
   "cell_type": "code",
   "execution_count": 63,
   "metadata": {},
   "outputs": [
    {
     "data": {
      "text/plain": [
       "'something fancy(HALLO, x) > step1=option2'"
      ]
     },
     "execution_count": 63,
     "metadata": {},
     "output_type": "execute_result"
    }
   ],
   "source": [
    "# you can also parameterize your recipes like this\n",
    "# but I am not sure that this is a good idea, yet :D\n",
    "\n",
    "class MyRecipe(rf.Recipe):\n",
    "\n",
    "    def __init__(self, param:str=\"None\"):\n",
    "        super().__init__()\n",
    "        self.param = \"HALLO\"\n",
    "\n",
    "    def something_fancy(self, x):\n",
    "        return f\"something fancy({self.param}, x)\"\n",
    "\n",
    "    def init_steps(self):\n",
    "\n",
    "        @self.option()\n",
    "        def step1___option1(x):\n",
    "            return x + \" > step1=option1\"\n",
    "    \n",
    "        @self.option()\n",
    "        def step1___option2(x):\n",
    "            return self.something_fancy(x) + \" > step1=option2\"\n",
    "        \n",
    "recipe = MyRecipe()\n",
    "recipe(\"test\")"
   ]
  },
  {
   "cell_type": "markdown",
   "metadata": {},
   "source": [
    "\n",
    "## Potential alternatives"
   ]
  },
  {
   "cell_type": "markdown",
   "metadata": {},
   "source": [
    "\n",
    "| Framework                   | Params / Branches | Caching | Parallel | DAG | Open Source | Last Update                                                                                   |\n",
    "| --------------------------- | ----------------- | ------- | -------- | --- | ----------- | --------------------------------------------------------------------------------------------- |\n",
    "| **PrupleML (Recipe)** [^rp] | ❔                | ❔      | ❔       | ❌  | ❔          | ![repo](https://img.shields.io/github/last-commit/mgbckr/purpleml)                            |\n",
    "| MLflow (recipies) [^mlflow] | ❔                | ❔      | ❔       | ❔  | ❔          | ![repo](https://img.shields.io/github/last-commit/mlflow/mlflow)                              |\n",
    "| Link [^link]                | ❔                | ✅      | ✅       | ❔  | ❌          | [![pypi](https://img.shields.io/pypi/v/mrx_link)](https://pypi.org/project/mrx-link/#history) |\n",
    "| pydags [^pyd]               | ❔                | ❔      | ❔       | ❔  | ❔          | ![repo](https://img.shields.io/github/last-commit/DavidTorpey/pydags)                         |\n",
    "| paradag [^par]              | ❔                | ❔      | ❔       | ❔  | ❔          | ![repo](https://img.shields.io/github/last-commit/xianghuzhao/paradag)                        |\n",
    "| fn graph [^fn1][^fn2][^fn3] | ❔                | ❔      | ❔       | ❔  | ❔          | ![repo](https://img.shields.io/github/last-commit/BusinessOptics/fn_graph)                    |\n",
    "| graphtik [^gt]              | ❔                | ❔      | ❔       | ❔  | ❔          | ![repo](https://img.shields.io/github/last-commit/pygraphkit/graphtik)                        |\n",
    "| schedula [^sc]              | ❔                | ❔      | ❔       | ❔  | ❔          | ![repo](https://img.shields.io/github/last-commit/vinci1it2000/schedula)                      |\n",
    "| Airflow [^af]               | ❔                | ❔      | ❔       | ❔  | ❔          | ![repo](https://img.shields.io/github/last-commit/apache/airflow)                             |\n",
    "| Luigi [^lui]                | ❔                | ❔      | ❔       | ❔  | ❔          | ![repo](https://img.shields.io/github/last-commit/spotify/luigi)                              |\n",
    "| dagster [^dg]               | ❔                | ❔      | ❔       | ❔  | ❔          | ![repo](https://img.shields.io/github/last-commit/dagster-io/dagster)                         |\n",
    "| Kubeflow [^kfl]             | ❔                | ❔      | ❔       | ❔  | ❔          | ![repo](https://img.shields.io/github/last-commit/kubeflow/kubeflow)                          |\n",
    "| hamilton [^ham]             | ❔                | ❔      | ❔       | ❔  | ❔          | ![repo](https://img.shields.io/github/last-commit/DAGWorks-Inc/hamilton)                      |\n",
    "| [tawazi](#tawazi) [^taw]    | ❔                | ❔      | ❔       | ❔  | ❔          | ![repo](https://img.shields.io/github/last-commit/mindee/tawazi)                              |\n",
    "| [ploomber](#ploomber) [^pl] | ❔                | ❔      | ❔       | ❔  | ❔          | ![repo](https://img.shields.io/github/last-commit/ploomber/ploomber)                          |\n",
    "| snakemake [^sm]             | ❔                | ❔      | ❔       | ❔  | ❔          | ![repo](https://img.shields.io/github/last-commit/snakemake/snakemake)                        |\n",
    "\n",
    "**Note:** Question marks (❔) need to be filled in.\n",
    "\n",
    "[^rp]: https://github.com/mgbckr/purpleml\n",
    "[^mlflow]: https://mlflow.org/docs/latest/recipes.html\n",
    "[^link]: https://link.makinarocks.ai/\n",
    "[^pyd]: https://github.com/DavidTorpey/pydags\n",
    "[^fn1]: https://fn-graph.businessoptics.biz/\n",
    "[^fn2]: https://towardsdatascience.com/fn-graph-lightweight-pipelines-in-python-121f8d5f9ef6\n",
    "[^fn3]: https://github.com/BusinessOptics/fn_graph\n",
    "[^taw]: https://mindee.github.io/tawazi/\n",
    "[^gt]: https://github.com/pygraphkit/graphtik\n",
    "[^sc]: https://schedula.readthedocs.io/en/master/\n",
    "[^pl]: https://ploomber.io/\n",
    "[^ham]: https://github.com/DAGWorks-Inc/hamilton\n",
    "[^par]: https://pypi.org/project/paradag\n",
    "[^sm]: https://snakemake.readthedocs.io/en/stable/\n",
    "[^dg]: https://dagster.io/\n",
    "[^af]: https://airflow.apache.org/\n",
    "[^lui]: https://luigi.readthedocs.io/en/stable/\n",
    "[^kfl]: https://www.kubeflow.org/"
   ]
  },
  {
   "cell_type": "markdown",
   "metadata": {},
   "source": [
    "### Tawazi\n",
    "\n",
    "- this is pretty nice! but no branches?\n",
    "- parameters possible though (so we could do a big if/else for example ...they also have branches ... somewhat)\n",
    "- alive!"
   ]
  },
  {
   "cell_type": "markdown",
   "metadata": {},
   "source": [
    "### Ploomber\n",
    "\n",
    "- can do parameterization: https://docs.ploomber.io/en/latest/user-guide/parametrized.html\n",
    "- can do grid search: https://docs.ploomber.io/en/latest/cookbook/grid.html\n",
    "  - not sure about caching\n",
    "- YAML based option/parameter selection"
   ]
  },
  {
   "cell_type": "markdown",
   "metadata": {},
   "source": [
    "## Roadmap\n",
    "\n",
    "### Potential directions / thoughts\n",
    "\n",
    "#### General\n",
    "\n",
    "- [ ] allow to easily save / share recipe execution results\n",
    "- [ ] advanced visualization capabilities\n",
    "- [ ] interactive visualization (recalculate, empty cache, etc.)\n",
    "- [ ] integrate with one of the DAG execution frameworks like AirFlow?\n",
    "\n",
    "#### Parameter support\n",
    "\n",
    "- [ ] allow kwargs for functions? maybe as parameters of the whole Recipe?\n",
    "    - [ ] How to handle those in cache?\n",
    "\n",
    "- [ ] explicitly support parameters\n",
    "    - [ ] combine into special kind of node (batch/grid)?\n",
    "    - [ ] is it necessary given the current functionality \n",
    "            to define arbitrary values for branch names?\n",
    "\n",
    "- [x] batches/grids \n",
    "    - [/] implement batches (see docs)\n",
    "    - [/] implement grids?\n",
    "    - [x] easily achievable with a for-loop already\n",
    "\n",
    "### Planned\n",
    "\n",
    "#### Advanced caching / functionality\n",
    "\n",
    "- [ ] **Emit statistics:** allow steps to emmit stats (not part of the regular return value but optional) \n",
    "    which can be used by a cache to show nice results (e.g., MLflow)\n",
    "- [ ] **Split caching/loading**: Allow to split / load different types of the cache\n",
    "    (actually is already possible by splitting a step and then caching each split)\n",
    "- [ ] Add asserts (do not continue / default result when not possible)\n",
    "\n",
    "#### DAG Support\n",
    "\n",
    "In practice it turns out that this is **SUPER IMPORTANT**. This has to happen soon.\n",
    "\n",
    "- [x] allow DAGs and multi-inputs (should actually work)\n",
    "    - [x] move to DAG rather than dictionary as underlying step data structure\n",
    "    - [x] allow multiple inputs (could be complicated due to parameter name parsing)\n",
    "    - [x] parameters give names in decorators \n",
    "            (but not necessarily, could be ordered by default)\n",
    "    - [ ] only visualize step DAGs not branches?\n",
    "\n",
    "- [ ] nested recipes\n",
    "- [ ] for parallel execution: merge nodes with only one child?\n",
    "\n",
    "#### Syntactic sugar\n",
    "\n",
    "\n",
    "- [ ] add method to produce code that executes the recipe as sequential function calls \n",
    "- [ ] maybe enforce naming scheme so make sure \n",
    "    we can convert at the end (make optional)?\n",
    "\n",
    "### In progress\n",
    "\n",
    "#### MVP\n",
    "\n",
    "- [x] Milestone 1: Basic functionality\n",
    "\n",
    "    - [x] move from `default` to `enabled`? \n",
    "    - [x] path-wise execution\n",
    "    - [x] parallel execution\n",
    "    - [x] merge recipes (makes them shareable!)\n",
    "    - [x] allow \"add after\" (I decided not to implement this \n",
    "            as it might interfere with other \"before\" or \"after\" directives, \n",
    "            we could explicitly set parents, but that seems redundant \n",
    "            ... just run the whole recipe again)\n",
    "    - [x] revamp config for advanced execution filter (which paths are executed)\n",
    "\n",
    "- [x] Milestone 2: Recipe execution\n",
    "    - [x] breadth first execution \n",
    "        - [x] set layers that make sense to parallelize explicitly\n",
    "    - [x] allow \"insert before\" operation\n",
    "    - [x] add execution filtering\n",
    "    - [x] add cache filtering\n",
    "    - [x] clean-up execution functionality (as we use the library)\n",
    "        - [x] latest\n",
    "        - [x] interactive?\n",
    "    - [x] add randomization\n",
    "        - [x] depth first\n",
    "        - [x] breadth first\n",
    "        - [x] cache level (latest? ... implement as we use it)\n",
    "    - [x] add parallelization filtering for breadth first execution\n",
    "    - [x] somehow default to caching only last step (may be a bit janky)\n",
    "    - [x] cache (needs locking if we execute path-wise ... not good)\n",
    "        - [x] dict cache backend\n",
    "        - [x] test\n",
    "        - [x] allow disabling cache for steps and branches\n",
    "        - [x] default cached or not as Recipe option?\n",
    "        - [x] partial execution (prune paths with cached child)\n",
    "            - [x] depth first\n",
    "            - [x] breadth first\n",
    "        - [x] file cache backend\n",
    "            - [x] make sure it is easy to unlikely that things overwrite\n",
    "        - [x] mlflow cache backend (for distributed programming)\n",
    "\n",
    "- [x] Milestone 3: Clean-up and syntactic sugar\n",
    "    - [x] test while doing project\n",
    "    - [x] move cache filtering to executor\n",
    "    - [x] make interactive an executor with more flexible cache \n",
    "        - executors should already provide all functionality and \n",
    "            the current interactive implementation seems redundant\n",
    "        - will allow interactive to use a custom cache\n",
    "    - [x] check/verify and then revamp Interactive framework\n",
    "        - [x] create wrapper (\"Kitchen\", \"Run\", **\"Session\"**) of recipe, input, and executor\n",
    "        - [x] make Interactive into a special kind of executor (with no execution)\n",
    "        - [x] add syntactic sugar to Recipe:\n",
    "                (recipe(*input, executor=None).execute(execute_filter, cache_filter))\n",
    "    - [x] check / allow non-string branch names for rudimentary param support\n",
    "\n",
    "- [x] Milestone 4: Syntactic sugar\n",
    "    - [x] defined functions are branch-able \n",
    "        (`branch` keyword on function call switched branch) \n",
    "    - [x] recipe is now callable like a function \n",
    "        and can select steps and branches dynamically\n",
    "    - [x] Nice session handling:\n",
    "        `Session(recipe).process(input).using(executor).execute()`\n",
    "    - [x] testing\n",
    "\n",
    "- [ ] Milestone 5: Distributed/parallel execution\n",
    "    - [x] individual cache for different steps\n",
    "    - [x] test parallel execution\n",
    "    - [ ] prevent redundant distributed execution\n",
    "        - [ ] enable locking in caches\n",
    "        - [ ] implement locking in DepthFirstExecutor (I don't think it makes sense in BreadthFirstExecutor?)\n",
    "        - [ ] filter before going into joblib Parallel?\n",
    "    - [ ] test distributed execution\n",
    "        - [ ] Simple MLflow\n",
    "        - [ ] Spark\n",
    "        - [ ] Dask\n",
    "\n",
    "- [ ] Milestone 6: Documentation and clean-up\n",
    "    - [x] add alternatives\n",
    "    - [ ] overview / quick start\n",
    "    - [ ] write about features\n",
    "    - [ ] code documentation\n",
    "    - [ ] re-document features\n",
    "    - [x] rename `branch` to `option` ?\n",
    "    - [ ] clean up / refactor `recipe.py`\n",
    "    - [ ] refactor all `utils.py`\n",
    "    - [ ] allow for easy removal (code auto generation)\n",
    "\n",
    "- [ ] Initial Release\n"
   ]
  },
  {
   "cell_type": "markdown",
   "metadata": {},
   "source": [
    "## Abandoned ideas"
   ]
  },
  {
   "cell_type": "markdown",
   "metadata": {},
   "source": [
    "### Context manager syntax\n",
    "\n",
    "I was considering a context manager syntax. Like so:\n",
    "\n",
    "```python\n",
    "r = Recipe()\n",
    "\n",
    "with r.option(\"step1.1\", parents=Recipe.DAG_ROOT) as step:\n",
    "\n",
    "    @step.option():\n",
    "    def step1_1___option1(x):\n",
    "        return x + \"_step1.1=option1\"\n",
    "\n",
    "with r.option(\"step1.2\", parents=Recipe.DAG_ROOT) as step:\n",
    "    \n",
    "    @step.option():\n",
    "    def step1_2___option1(x):\n",
    "        return x + \"_step1.2=option1\"\n",
    "\n",
    "    @step.option():\n",
    "    def step1_2___option2(x):\n",
    "        return x + \"_step1.2=option1\"\n",
    "\n",
    "with r.option(\"step2\", parents=[\"step1.1\", \"step1.2\"]) as step:\n",
    "    \n",
    "    @step.option():\n",
    "    def step2___option1(x1, x2):\n",
    "        return x + \"_step2=option1\"\n",
    "```\n",
    "\n",
    "Can be implemented as mix-in to Recipe (like the `Callable` mix-in).\n",
    "\n",
    "\n",
    "However: \n",
    "\n",
    "- This would have been for better readability only since everything can already be achieved by the current methods. \n",
    "- And more importantly, in a Jupyter Notebook setting I may want to define each option in a separate cell which means I can not use the context manager syntax. In that case, we would have two syntax variants which you have to learn depending in which environment you are in. This is a cognitive overhead that I would like to avoid.\n",
    "\n",
    "Overall, this makes the context manager syntax nice to look at but ultimately not useful enough to be implemented and possibly confusing.\n",
    "Thus, I will not further pursue this feature.\n",
    "\n"
   ]
  }
 ],
 "metadata": {
  "kernelspec": {
   "display_name": "pregnancy-vaccine",
   "language": "python",
   "name": "python3"
  },
  "language_info": {
   "codemirror_mode": {
    "name": "ipython",
    "version": 3
   },
   "file_extension": ".py",
   "mimetype": "text/x-python",
   "name": "python",
   "nbconvert_exporter": "python",
   "pygments_lexer": "ipython3",
   "version": "3.11.5"
  }
 },
 "nbformat": 4,
 "nbformat_minor": 4
}
